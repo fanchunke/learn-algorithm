{
 "metadata": {
  "language_info": {
   "codemirror_mode": {
    "name": "ipython",
    "version": 3
   },
   "file_extension": ".py",
   "mimetype": "text/x-python",
   "name": "python",
   "nbconvert_exporter": "python",
   "pygments_lexer": "ipython3",
   "version": "3.7.3-final"
  },
  "orig_nbformat": 2,
  "kernelspec": {
   "name": "python3",
   "display_name": "Python 3.7.3 64-bit ('anaconda3-2019.03': conda)",
   "metadata": {
    "interpreter": {
     "hash": "c9e53bf588dd1c8ecbac43bdc1850323131a2cfd25bc9360fcba599fe2f7ea31"
    }
   }
  }
 },
 "nbformat": 4,
 "nbformat_minor": 2,
 "cells": [
  {
   "source": [
    "# 01 数组中重复的数字"
   ],
   "cell_type": "markdown",
   "metadata": {}
  },
  {
   "source": [
    "**描述**\n",
    "\n",
    "在一个长度为 n 的数组 nums 里的所有数字都在 0～n-1 的范围内。数组中某些数字是重复的，但不知道有几个数字重复了，也不知道每个数字重复了几次。请找出数组中任意一个重复的数字。例如，如果输入长度为 7 的数组 {2,3,1,0,2,5,3}，那么对应的输出是重复的数字 2 或者 3。"
   ],
   "cell_type": "markdown",
   "metadata": {}
  },
  {
   "source": [
    "**示例**\n",
    "\n",
    "```text\n",
    "输入：[2, 3, 1, 0, 2, 5, 3]\n",
    "输出：2 或 3 \n",
    "```"
   ],
   "cell_type": "markdown",
   "metadata": {}
  },
  {
   "source": [
    "**解法**"
   ],
   "cell_type": "markdown",
   "metadata": {}
  },
  {
   "source": [
    "1. 哈希表\n",
    "\n",
    "构造字典，循环数组将数字添加到字典中。如果字典中键已经存在，则说明是重复数字。\n",
    "\n",
    "**时间复杂度:** O(n)\n",
    "\n",
    "**空间复杂度:** O(n)"
   ],
   "cell_type": "markdown",
   "metadata": {}
  },
  {
   "cell_type": "code",
   "execution_count": 1,
   "metadata": {},
   "outputs": [
    {
     "output_type": "stream",
     "name": "stdout",
     "text": [
      "2\n"
     ]
    }
   ],
   "source": [
    "from typing import List\n",
    "\n",
    "class Solution(object):\n",
    "\n",
    "    def find_repeat_number(self, nums: List[int]) -> int:\n",
    "        d = {}\n",
    "        for value in nums:\n",
    "            if value in d:\n",
    "                return value\n",
    "            d[value] = 1\n",
    "        return -1\n",
    "\n",
    "\n",
    "if __name__ == '__main__':\n",
    "    s = Solution()\n",
    "    nums = [2, 3, 1, 0, 2, 5, 3]\n",
    "    print(s.find_repeat_number(nums))"
   ]
  },
  {
   "source": [
    "2. 原地排序\n",
    "\n",
    "注意到，这个长度为 n 的数组 nums 里的所有数字都在 0～n-1 的范围内，如果没有重复的数字的话，那么当数组排序后数字 i 将排在 下标为 i 的位置。因此可以考虑循环数组，对其排序。具体步骤如下:\n",
    "\n",
    "- 如果下标 i 和 对应的值 m 相等，说明该数字在原本的位置上，继续扫描下一个数字\n",
    "- 如果不是，则和下标 m 对应的数字进行比较。如果相等，则说明找到一个重复的数字，直接返回；如果不相等，则交换下标 i 和下标 m 对应的值\n",
    "- 重复第一步，直到出现一个重复的数字\n",
    "\n",
    "**时间复杂度:** O(n)\n",
    "\n",
    "**空间复杂度:** O(1)"
   ],
   "cell_type": "markdown",
   "metadata": {}
  },
  {
   "cell_type": "code",
   "execution_count": 2,
   "metadata": {},
   "outputs": [
    {
     "output_type": "stream",
     "name": "stdout",
     "text": [
      "2\n"
     ]
    }
   ],
   "source": [
    "class Solution(object):\n",
    "\n",
    "    def find_repeat_number(self, nums: List[int]) -> int:\n",
    "        for index, num in enumerate(nums):\n",
    "            while index != num:\n",
    "                if num == nums[num]:\n",
    "                    return num\n",
    "                nums[index], nums[num] = nums[num], nums[index]\n",
    "        return -1\n",
    "\n",
    "\n",
    "if __name__ == '__main__':\n",
    "    s = Solution()\n",
    "    nums = [2, 3, 1, 0, 2, 5, 3]\n",
    "    print(s.find_repeat_number(nums))"
   ]
  }
 ]
}